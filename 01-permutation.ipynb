{
 "cells": [
  {
   "cell_type": "markdown",
   "metadata": {},
   "source": [
    "## 求全排列\n",
    "### 没有重复元素"
   ]
  },
  {
   "cell_type": "code",
   "execution_count": 22,
   "metadata": {},
   "outputs": [
    {
     "name": "stdout",
     "output_type": "stream",
     "text": [
      "[[1, 2, 3], [1, 3, 2], [2, 1, 3], [2, 3, 1], [3, 1, 2], [3, 2, 1]]\n"
     ]
    }
   ],
   "source": [
    "class Solution(object):\n",
    "    def permutation(self, nums):\n",
    "        result = []\n",
    "        used = [False] * len(nums)\n",
    "        nums.sort()\n",
    "        self.permutationRecu(nums, result, [], used)\n",
    "        return result\n",
    "    def permutationRecu(self, nums, result, cur, used):\n",
    "        if len(cur) == len(nums):\n",
    "            result.append(cur+[])\n",
    "            return\n",
    "        for i in range(len(nums)):\n",
    "            if used[i]:\n",
    "                continue\n",
    "            cur.append(nums[i])\n",
    "            used[i] = True\n",
    "            self.permutationRecu(nums, result, cur, used)\n",
    "            cur.pop()\n",
    "            used[i] = False\n",
    "\n",
    "solution = Solution()\n",
    "nums = [1,2,3]\n",
    "result = solution.permutation(nums)\n",
    "print(result)"
   ]
  },
  {
   "cell_type": "markdown",
   "metadata": {},
   "source": [
    "### 包含重复元素\n",
    "\n",
    "此时需要比较前一个元素情况"
   ]
  },
  {
   "cell_type": "code",
   "execution_count": 24,
   "metadata": {},
   "outputs": [],
   "source": [
    "class Solution(object):\n",
    "    def permuteUnique(self, nums):\n",
    "        result = []\n",
    "        nums.sort()\n",
    "        used = [False]* len(nums)\n",
    "        self.permuteUniqueRecu(nums, [], used, result)\n",
    "        return result\n",
    "    def permuteUniqueRecu(self, nums, cur, used, result):\n",
    "        if len(cur) == len(nums):\n",
    "            result.append(cur+[])\n",
    "            return\n",
    "        for i in range(len(nums)):\n",
    "            if used[i] or (i > 0 and nums[i-1]==nums[i] and used[i-1]==False):\n",
    "                continue\n",
    "            used[i] = True\n",
    "            cur.append(nums[i])\n",
    "            self.permuteUniqueRecu(nums, cur, used, result)\n",
    "            cur.pop()\n",
    "            used[i] = False"
   ]
  },
  {
   "cell_type": "code",
   "execution_count": 25,
   "metadata": {},
   "outputs": [],
   "source": [
    "solution = Solution()\n",
    "nums = [1,2,3,3]\n",
    "result = solution.permuteUnique(nums)"
   ]
  },
  {
   "cell_type": "code",
   "execution_count": 26,
   "metadata": {},
   "outputs": [
    {
     "data": {
      "text/plain": [
       "[[1, 2, 3, 3],\n",
       " [1, 3, 2, 3],\n",
       " [1, 3, 3, 2],\n",
       " [2, 1, 3, 3],\n",
       " [2, 3, 1, 3],\n",
       " [2, 3, 3, 1],\n",
       " [3, 1, 2, 3],\n",
       " [3, 1, 3, 2],\n",
       " [3, 2, 1, 3],\n",
       " [3, 2, 3, 1],\n",
       " [3, 3, 1, 2],\n",
       " [3, 3, 2, 1]]"
      ]
     },
     "execution_count": 26,
     "metadata": {},
     "output_type": "execute_result"
    }
   ],
   "source": [
    "result"
   ]
  },
  {
   "cell_type": "markdown",
   "metadata": {},
   "source": [
    "### 只求下一个排列 \n",
    "1. 从前往后找到最后一对相邻数，前一个数小于后一个数，记录前一个数位置k\n",
    "2. 从k+1位置往后查找最后一个比`nums[k]`大的数，位置记为l\n",
    "3. 将`nums[k]`和`nums[l]`互换\n",
    "4. 将k之后的数reverse"
   ]
  },
  {
   "cell_type": "code",
   "execution_count": 12,
   "metadata": {},
   "outputs": [
    {
     "data": {
      "text/plain": [
       "[3, 1, 4, 2]"
      ]
     },
     "execution_count": 12,
     "metadata": {},
     "output_type": "execute_result"
    }
   ],
   "source": [
    "class Solution(object):\n",
    "    def next_permutation(self, nums):\n",
    "        k, l = -1, 0\n",
    "        for i in reversed(range(len(nums)-1)):\n",
    "            if nums[i] < nums[i+1]:\n",
    "                k = i\n",
    "        if k == -1:\n",
    "            nums.reverse()\n",
    "            return\n",
    "        \n",
    "        for i in range(k+1, len(nums)):\n",
    "            if nums[i] > nums[k]:\n",
    "                l = i\n",
    "        nums[k], nums[l] = nums[l], nums[k]\n",
    "        nums[k+1:] = nums[:k:-1]\n",
    "\n",
    "solution = Solution()\n",
    "nums = [1,2,4,3]\n",
    "solution.next_permutation(nums)\n",
    "nums"
   ]
  },
  {
   "cell_type": "code",
   "execution_count": null,
   "metadata": {},
   "outputs": [],
   "source": []
  }
 ],
 "metadata": {
  "kernelspec": {
   "display_name": "Python 3",
   "language": "python",
   "name": "python3"
  },
  "language_info": {
   "codemirror_mode": {
    "name": "ipython",
    "version": 3
   },
   "file_extension": ".py",
   "mimetype": "text/x-python",
   "name": "python",
   "nbconvert_exporter": "python",
   "pygments_lexer": "ipython3",
   "version": "3.6.4"
  }
 },
 "nbformat": 4,
 "nbformat_minor": 2
}
