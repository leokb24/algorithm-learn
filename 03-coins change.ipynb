{
 "cells": [
  {
   "cell_type": "markdown",
   "metadata": {},
   "source": [
    "#  Coin Change\n",
    "## DP"
   ]
  },
  {
   "cell_type": "code",
   "execution_count": 3,
   "metadata": {},
   "outputs": [],
   "source": [
    "class Solution(object):\n",
    "    def coin_change(self, coins, amount):\n",
    "        ans = [float('inf') for _ in range(amount+1)]\n",
    "        ans[0] = 0\n",
    "        for i in range(1, amount+1):\n",
    "            for j in range(len(coins)):\n",
    "                if i >= coins[j]:\n",
    "                    ans[i] = min(ans[i], ans[i-coins[j]]+1)\n",
    "        return ans"
   ]
  },
  {
   "cell_type": "code",
   "execution_count": 4,
   "metadata": {},
   "outputs": [
    {
     "name": "stdout",
     "output_type": "stream",
     "text": [
      "[0, 1, 1, 2, 2, 1, 2, 2, 3, 3, 2, 3]\n"
     ]
    }
   ],
   "source": [
    "solution = Solution()\n",
    "coins = [1,2,5]\n",
    "amount = 11\n",
    "print(solution.coin_change(coins, amount))"
   ]
  },
  {
   "cell_type": "markdown",
   "metadata": {},
   "source": [
    "## DFS"
   ]
  },
  {
   "cell_type": "code",
   "execution_count": 8,
   "metadata": {},
   "outputs": [],
   "source": [
    "class Solution(object):\n",
    "    def coin_change(self, coins, amount):\n",
    "        def dfs(c_i, amount, cur):\n",
    "            if amount == 0:\n",
    "                self.ans = min(self.ans, cur)\n",
    "                return\n",
    "            for i in range(c_i, len(coins)):\n",
    "                if coins[i] <= amount < coins[i]*(self.ans - cur):\n",
    "                    dfs(i, amount-coins[i], cur+1)\n",
    "        \n",
    "        self.ans = amount+1\n",
    "        dfs(0, amount, 0)\n",
    "        return self.ans if self.ans != amount+1 else -1\n",
    "                "
   ]
  },
  {
   "cell_type": "code",
   "execution_count": 11,
   "metadata": {},
   "outputs": [
    {
     "name": "stdout",
     "output_type": "stream",
     "text": [
      "3\n"
     ]
    }
   ],
   "source": [
    "solution = Solution()\n",
    "coins = [1,2,5]\n",
    "amount = 11\n",
    "print(solution.coin_change(coins, amount))"
   ]
  },
  {
   "cell_type": "markdown",
   "metadata": {},
   "source": [
    "## leetcode 518.coin change II\n",
    "You are given coins of different denominations and a total amount of money. Write a function to compute the number of combinations that make up that amount. You may assume that you have infinite number of each kind of coin."
   ]
  },
  {
   "cell_type": "code",
   "execution_count": 15,
   "metadata": {},
   "outputs": [],
   "source": [
    "class Solution(object):\n",
    "    def coin_change2(self, coins, amount):\n",
    "        dp = [1] + ([0]*amount)\n",
    "        for i in range(len(coins)):\n",
    "            for j in range(amount):\n",
    "                if j+coins[i] <= amount:\n",
    "                    dp[j+coins[i]] += dp[j]\n",
    "        return dp[-1]"
   ]
  },
  {
   "cell_type": "code",
   "execution_count": 18,
   "metadata": {},
   "outputs": [
    {
     "name": "stdout",
     "output_type": "stream",
     "text": [
      "4\n"
     ]
    }
   ],
   "source": [
    "solution = Solution()\n",
    "coins = [1,2,5]\n",
    "amount = 5\n",
    "print(solution.coin_change2(coins, amount))"
   ]
  },
  {
   "cell_type": "code",
   "execution_count": null,
   "metadata": {},
   "outputs": [],
   "source": []
  }
 ],
 "metadata": {
  "kernelspec": {
   "display_name": "Python 3",
   "language": "python",
   "name": "python3"
  },
  "language_info": {
   "codemirror_mode": {
    "name": "ipython",
    "version": 3
   },
   "file_extension": ".py",
   "mimetype": "text/x-python",
   "name": "python",
   "nbconvert_exporter": "python",
   "pygments_lexer": "ipython3",
   "version": "3.6.4"
  }
 },
 "nbformat": 4,
 "nbformat_minor": 2
}
