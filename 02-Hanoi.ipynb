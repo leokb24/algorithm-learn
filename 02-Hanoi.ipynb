{
 "cells": [
  {
   "cell_type": "markdown",
   "metadata": {},
   "source": [
    "# 汉诺塔问题\n",
    "主要思路：要将n个物体从左边柱子借助中间柱子移到右边柱子，首先将n-1个物体从左边柱子借助右边柱子移到中间柱子，然后将第n个物体从左边柱子移到右边柱子。依次往下。"
   ]
  },
  {
   "cell_type": "code",
   "execution_count": 5,
   "metadata": {},
   "outputs": [
    {
     "name": "stdout",
     "output_type": "stream",
     "text": [
      "1 left => right\n",
      "2 left => middle\n",
      "1 right => middle\n",
      "3 left => right\n",
      "1 middle => left\n",
      "2 middle => right\n",
      "1 left => right\n"
     ]
    }
   ],
   "source": [
    "class Solution(object):\n",
    "    def hanoi(self, height, left='left', middle='middle', right='right'):\n",
    "        if height:\n",
    "            self.hanoi(height-1, left, right, middle)\n",
    "            print(height, left, '=>', right)\n",
    "            self.hanoi(height-1, middle, left, right)\n",
    "\n",
    "solution = Solution()\n",
    "solution.hanoi(3)"
   ]
  },
  {
   "cell_type": "code",
   "execution_count": null,
   "metadata": {},
   "outputs": [],
   "source": []
  }
 ],
 "metadata": {
  "kernelspec": {
   "display_name": "Python 3",
   "language": "python",
   "name": "python3"
  },
  "language_info": {
   "codemirror_mode": {
    "name": "ipython",
    "version": 3
   },
   "file_extension": ".py",
   "mimetype": "text/x-python",
   "name": "python",
   "nbconvert_exporter": "python",
   "pygments_lexer": "ipython3",
   "version": "3.6.4"
  }
 },
 "nbformat": 4,
 "nbformat_minor": 2
}
